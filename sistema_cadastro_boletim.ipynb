{
  "nbformat": 4,
  "nbformat_minor": 0,
  "metadata": {
    "colab": {
      "provenance": [],
      "authorship_tag": "ABX9TyN0jwHK87bpegeAfv/kGk38",
      "include_colab_link": true
    },
    "kernelspec": {
      "name": "python3",
      "display_name": "Python 3"
    },
    "language_info": {
      "name": "python"
    }
  },
  "cells": [
    {
      "cell_type": "markdown",
      "metadata": {
        "id": "view-in-github",
        "colab_type": "text"
      },
      "source": [
        "<a href=\"https://colab.research.google.com/github/DevaFullStack/sistema_cadastro_boletim/blob/main/sistema_cadastro_boletim.ipynb\" target=\"_parent\"><img src=\"https://colab.research.google.com/assets/colab-badge.svg\" alt=\"Open In Colab\"/></a>"
      ]
    },
    {
      "cell_type": "markdown",
      "source": [
        "# 🎓 Projeto Final – Sistema de Cadastro e Boletim de Alunos\n",
        "\n",
        "Neste projeto, você vai aplicar os principais conceitos de **listas**, **strings**, **dicionários** e **funções built-in** para construir um sistema simples de cadastro de alunos. O objetivo é simular um sistema escolar que armazena dados dos estudantes, calcula suas médias e exibe um boletim final.\n",
        "\n",
        "---\n",
        "\n",
        "## 🧩 Conceitos abordados\n",
        "\n",
        "- Manipulação de **strings** com `input()` e `split()`\n",
        "- Armazenamento de dados em **listas** e **dicionários**\n",
        "- Uso de **funções built-in** como `sum()`, `len()`, `round()`, `max()`, `min()`, `sorted()`\n",
        "- Estruturas de controle: `for`, `if`, `else`\n",
        "- Exibição formatada com `f-strings`\n",
        "\n",
        "---\n",
        "\n",
        "## 📋 Requisitos do sistema\n",
        "\n",
        "1. Permitir o cadastro de vários alunos\n",
        "2. Para cada aluno, armazenar:\n",
        "   - Nome (string)\n",
        "   - Três notas (lista de floats)\n",
        "3. Calcular a média das notas\n",
        "4. Exibir um boletim com:\n",
        "   - Nome do aluno\n",
        "   - Notas\n",
        "   - Média\n",
        "   - Situação (Aprovado/Reprovado)\n",
        "\n",
        "---\n",
        "\n",
        "## 🧪 Desafios extras\n",
        "\n",
        "- Mostrar o aluno com a **maior média**\n",
        "- Mostrar o aluno com a **menor média**\n",
        "- Ordenar os alunos por média (do maior para o menor)\n",
        "\n",
        "---\n",
        "\n",
        "> 💡 Dica: Use funções como `round()` para formatar as médias com duas casas decimais e `sorted()` com `key` para ordenar os alunos por desempenho.\n"
      ],
      "metadata": {
        "id": "YRjGmszH-qbD"
      }
    },
    {
      "cell_type": "code",
      "source": [
        "# 🎓 Entrada de Dados – Cadastro de Alunos\n",
        "\n",
        "# Inicializa a lista para armazenar os dados dos alunos\n",
        "alunos = []\n",
        "\n",
        "# Inicia o laço de repetição para registrar as informações\n",
        "while True:\n",
        "    # Solicita o nome do aluno\n",
        "    nome = input(\"Digite o nome do aluno (ou 'sair' para encerrar): \")\n",
        "\n",
        "    # Comando de controle para encerrar o registro\n",
        "    if nome.lower() == 'sair':\n",
        "        break\n",
        "\n",
        "    # Solicita as três notas do aluno\n",
        "    nota1 = float(input(\"Digite a primeira nota: \"))\n",
        "    nota2 = float(input(\"Digite a segunda nota: \"))\n",
        "    nota3 = float(input(\"Digite a terceira nota: \"))\n",
        "\n",
        "    # Agrupa as notas em uma lista\n",
        "    notas = [nota1, nota2, nota3]\n",
        "\n",
        "    # Adiciona o nome e as notas à lista de alunos\n",
        "    alunos.append([nome, notas])\n",
        "\n",
        "# 📊 Exibição dos Resultados\n",
        "\n",
        "print(\"\\n📋 BOLETIM FINAL DOS ALUNOS\\n\")\n",
        "\n",
        "# Percorre a lista de alunos para calcular e exibir os dados\n",
        "for nome, notas in alunos:\n",
        "    # Calcula a média das notas\n",
        "    media = sum(notas) / len(notas)\n",
        "\n",
        "    # Verifica a situação do aluno\n",
        "    if media >= 7:\n",
        "        status = \"Aprovado\"\n",
        "    else:\n",
        "        status = \"Reprovado\"\n",
        "\n",
        "    # Exibe os dados formatados\n",
        "    print(f\"🧑 Nome: {nome}\")\n",
        "    print(f\"📝 Notas: {notas}\")\n",
        "    print(f\"📐 Média: {media:.2f}\")\n",
        "    print(f\"📌 Situação: {status}\")\n",
        "    print(\"-\" * 40)"
      ],
      "metadata": {
        "colab": {
          "base_uri": "https://localhost:8080/"
        },
        "id": "eXPaoXkV_G51",
        "outputId": "e1d280c9-2b15-4f4e-ceca-6f111f68e811"
      },
      "execution_count": 5,
      "outputs": [
        {
          "output_type": "stream",
          "name": "stdout",
          "text": [
            "Digite o nome do aluno (ou 'sair' para encerrar): João\n",
            "Digite a primeira nota: 4\n",
            "Digite a segunda nota: 7\n",
            "Digite a terceira nota: 5\n",
            "Digite o nome do aluno (ou 'sair' para encerrar): Maria\n",
            "Digite a primeira nota: 1\n",
            "Digite a segunda nota: 5\n",
            "Digite a terceira nota: 6\n",
            "Digite o nome do aluno (ou 'sair' para encerrar): Carlos\n",
            "Digite a primeira nota: 7\n",
            "Digite a segunda nota: 9\n",
            "Digite a terceira nota: 8\n",
            "Digite o nome do aluno (ou 'sair' para encerrar): Ester\n",
            "Digite a primeira nota: 8\n",
            "Digite a segunda nota: 9\n",
            "Digite a terceira nota: 8\n",
            "Digite o nome do aluno (ou 'sair' para encerrar): sair\n",
            "\n",
            "📋 BOLETIM FINAL DOS ALUNOS\n",
            "\n",
            "🧑 Nome: João\n",
            "📝 Notas: [4.0, 7.0, 5.0]\n",
            "📐 Média: 5.33\n",
            "📌 Situação: Reprovado\n",
            "----------------------------------------\n",
            "🧑 Nome: Maria\n",
            "📝 Notas: [1.0, 5.0, 6.0]\n",
            "📐 Média: 4.00\n",
            "📌 Situação: Reprovado\n",
            "----------------------------------------\n",
            "🧑 Nome: Carlos\n",
            "📝 Notas: [7.0, 9.0, 8.0]\n",
            "📐 Média: 8.00\n",
            "📌 Situação: Aprovado\n",
            "----------------------------------------\n",
            "🧑 Nome: Ester\n",
            "📝 Notas: [8.0, 9.0, 8.0]\n",
            "📐 Média: 8.33\n",
            "📌 Situação: Aprovado\n",
            "----------------------------------------\n"
          ]
        }
      ]
    }
  ]
}